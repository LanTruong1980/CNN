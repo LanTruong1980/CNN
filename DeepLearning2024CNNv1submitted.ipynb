{
 "cells": [
  {
   "cell_type": "code",
   "execution_count": 1,
   "id": "af46df6d",
   "metadata": {},
   "outputs": [],
   "source": [
    "import numpy as np\n",
    "from tensorflow import keras\n",
    "from tensorflow.keras import layers\n",
    "from numpy import linalg as LA\n",
    "from keras import backend as K\n",
    "import matplotlib.pyplot as plt\n",
    "from keras.models import Model"
   ]
  },
  {
   "cell_type": "code",
   "execution_count": 2,
   "id": "0b5f474d",
   "metadata": {},
   "outputs": [
    {
     "name": "stdout",
     "output_type": "stream",
     "text": [
      "(60000, 28, 28)\n",
      "(10000, 28, 28)\n",
      "x_train shape: (60000, 28, 28)\n",
      "60000 train samples\n",
      "10000 test samples\n"
     ]
    }
   ],
   "source": [
    "# Model / data parameters\n",
    "num_classes = 10\n",
    "input_shape = (28, 28, 1)\n",
    "\n",
    "# Load the data and split it between train and test sets\n",
    "(x_train, y_train), (x_test, y_test) = keras.datasets.mnist.load_data()\n",
    "print(np.shape(x_train))\n",
    "print(np.shape(x_test))\n",
    "# Scale images to the [0, 1] range\n",
    "x_train = x_train.astype(\"float32\")/255 \n",
    "x_test = x_test.astype(\"float32\")/255\n",
    "\n",
    "\n",
    "\n",
    "# Make sure images have shape (28, 28, 1)\n",
    "#x_train = np.expand_dims(x_train, -1)\n",
    "#x_test = np.expand_dims(x_test, -1)\n",
    "print(\"x_train shape:\", x_train.shape)\n",
    "print(x_train.shape[0], \"train samples\")\n",
    "print(x_test.shape[0], \"test samples\")\n",
    "\n",
    "\n",
    "# convert class vectors to binary class matrices\n",
    "#y_train = keras.utils.to_categorical(y_train, num_classes)\n",
    "#y_test = keras.utils.to_categorical(y_test, num_classes)\n",
    "\n",
    "\n"
   ]
  },
  {
   "cell_type": "code",
   "execution_count": 3,
   "id": "1472c8e2",
   "metadata": {},
   "outputs": [],
   "source": [
    "k=0\n",
    "x_train_new=[]\n",
    "y_train_new=[]\n",
    "x_test_new=[]\n",
    "y_test_new=[]\n",
    "for i in range(len(y_train)):\n",
    "  if (y_train[i]==0) or (y_train[i]==1):\n",
    "     x_train_new.append(x_train[i])\n",
    "     y_train_new.append(y_train[i])\n",
    "for i in range(len(y_test)):\n",
    "  if (y_test[i]==0) or (y_test[i]==1):\n",
    "     x_test_new.append(x_test[i])\n",
    "     y_test_new.append(y_test[i])\n",
    "\n",
    "#for i in range(len(y_train_new)):\n",
    " # if (y_train_new[i]==0):\n",
    "  #  y_train_new[i]=-1\n",
    "#for i in range(len(y_test_new)):\n",
    " # if (y_test_new[i]==0):\n",
    "  #  y_test_new[i]=-1\n",
    "\n",
    "num_classes=2\n",
    "# Make sure images have shape (28, 28, 1)\n",
    "x_train_new = np.expand_dims(x_train_new, -1)\n",
    "x_test_new = np.expand_dims(x_test_new, -1)    \n",
    "\n",
    "y_train_new_original=y_train_new #store the label\n",
    "\n",
    "# convert class vectors to binary class matrices\n",
    "y_train_new = keras.utils.to_categorical(y_train_new, num_classes)\n",
    "y_test_new = keras.utils.to_categorical(y_test_new, num_classes)"
   ]
  },
  {
   "cell_type": "code",
   "execution_count": 4,
   "id": "31c43f05",
   "metadata": {},
   "outputs": [
    {
     "name": "stdout",
     "output_type": "stream",
     "text": [
      "Model: \"sequential\"\n",
      "_________________________________________________________________\n",
      " Layer (type)                Output Shape              Param #   \n",
      "=================================================================\n",
      " conv2d (Conv2D)             (None, 26, 26, 32)        320       \n",
      "                                                                 \n",
      " max_pooling2d (MaxPooling2  (None, 13, 13, 32)        0         \n",
      " D)                                                              \n",
      "                                                                 \n",
      " conv2d_1 (Conv2D)           (None, 11, 11, 64)        18496     \n",
      "                                                                 \n",
      " max_pooling2d_1 (MaxPoolin  (None, 5, 5, 64)          0         \n",
      " g2D)                                                            \n",
      "                                                                 \n",
      " flatten (Flatten)           (None, 1600)              0         \n",
      "                                                                 \n",
      " dropout (Dropout)           (None, 1600)              0         \n",
      "                                                                 \n",
      " dense (Dense)               (None, 2)                 3202      \n",
      "                                                                 \n",
      "=================================================================\n",
      "Total params: 22018 (86.01 KB)\n",
      "Trainable params: 22018 (86.01 KB)\n",
      "Non-trainable params: 0 (0.00 Byte)\n",
      "_________________________________________________________________\n"
     ]
    },
    {
     "name": "stderr",
     "output_type": "stream",
     "text": [
      "2024-02-08 10:31:27.754735: I metal_plugin/src/device/metal_device.cc:1154] Metal device set to: Apple M1 Pro\n",
      "2024-02-08 10:31:27.754766: I metal_plugin/src/device/metal_device.cc:296] systemMemory: 16.00 GB\n",
      "2024-02-08 10:31:27.754775: I metal_plugin/src/device/metal_device.cc:313] maxCacheSize: 5.33 GB\n",
      "2024-02-08 10:31:27.754872: I tensorflow/core/common_runtime/pluggable_device/pluggable_device_factory.cc:303] Could not identify NUMA node of platform GPU ID 0, defaulting to 0. Your kernel may not have been built with NUMA support.\n",
      "2024-02-08 10:31:27.755179: I tensorflow/core/common_runtime/pluggable_device/pluggable_device_factory.cc:269] Created TensorFlow device (/job:localhost/replica:0/task:0/device:GPU:0 with 0 MB memory) -> physical PluggableDevice (device: 0, name: METAL, pci bus id: <undefined>)\n"
     ]
    }
   ],
   "source": [
    "model = keras.Sequential(\n",
    "    [\n",
    "        keras.Input(shape=input_shape),\n",
    "        layers.Conv2D(32, kernel_size=(3, 3), activation=\"sigmoid\"),\n",
    "        layers.MaxPooling2D(pool_size=(2, 2)),\n",
    "        layers.Conv2D(64, kernel_size=(3, 3), activation=\"sigmoid\"),\n",
    "        layers.MaxPooling2D(pool_size=(2, 2)),\n",
    "        layers.Flatten(),\n",
    "        layers.Dropout(0.5),\n",
    "        layers.Dense(2, activation=\"sigmoid\"), \n",
    "    ]\n",
    ")\n",
    "\n",
    "model.summary()\n"
   ]
  },
  {
   "cell_type": "code",
   "execution_count": 5,
   "id": "17fa0c72",
   "metadata": {},
   "outputs": [
    {
     "name": "stdout",
     "output_type": "stream",
     "text": [
      "Epoch 1/15\n",
      " 1/90 [..............................] - ETA: 26s - loss: 0.9234 - accuracy: 0.4766"
     ]
    },
    {
     "name": "stderr",
     "output_type": "stream",
     "text": [
      "2024-02-08 10:31:35.137161: I tensorflow/core/grappler/optimizers/custom_graph_optimizer_registry.cc:114] Plugin optimizer for device_type GPU is enabled.\n"
     ]
    },
    {
     "name": "stdout",
     "output_type": "stream",
     "text": [
      "90/90 [==============================] - 2s 17ms/step - loss: 0.6928 - accuracy: 0.5803 - val_loss: 0.5431 - val_accuracy: 0.6006\n",
      "Epoch 2/15\n",
      " 5/90 [>.............................] - ETA: 1s - loss: 0.5157 - accuracy: 0.8063"
     ]
    },
    {
     "name": "stderr",
     "output_type": "stream",
     "text": [
      "2024-02-08 10:31:36.683808: I tensorflow/core/grappler/optimizers/custom_graph_optimizer_registry.cc:114] Plugin optimizer for device_type GPU is enabled.\n"
     ]
    },
    {
     "name": "stdout",
     "output_type": "stream",
     "text": [
      "90/90 [==============================] - 1s 15ms/step - loss: 0.1931 - accuracy: 0.9689 - val_loss: 0.0375 - val_accuracy: 0.9945\n",
      "Epoch 3/15\n",
      "90/90 [==============================] - 1s 15ms/step - loss: 0.0303 - accuracy: 0.9934 - val_loss: 0.0233 - val_accuracy: 0.9937\n",
      "Epoch 4/15\n",
      "90/90 [==============================] - 1s 15ms/step - loss: 0.0192 - accuracy: 0.9950 - val_loss: 0.0190 - val_accuracy: 0.9945\n",
      "Epoch 5/15\n",
      "90/90 [==============================] - 1s 15ms/step - loss: 0.0158 - accuracy: 0.9955 - val_loss: 0.0147 - val_accuracy: 0.9945\n",
      "Epoch 6/15\n",
      "90/90 [==============================] - 1s 15ms/step - loss: 0.0130 - accuracy: 0.9960 - val_loss: 0.0126 - val_accuracy: 0.9953\n",
      "Epoch 7/15\n",
      "90/90 [==============================] - 1s 15ms/step - loss: 0.0119 - accuracy: 0.9966 - val_loss: 0.0093 - val_accuracy: 0.9968\n",
      "Epoch 8/15\n",
      "90/90 [==============================] - 1s 15ms/step - loss: 0.0102 - accuracy: 0.9971 - val_loss: 0.0074 - val_accuracy: 0.9968\n",
      "Epoch 9/15\n",
      "90/90 [==============================] - 1s 15ms/step - loss: 0.0088 - accuracy: 0.9972 - val_loss: 0.0082 - val_accuracy: 0.9968\n",
      "Epoch 10/15\n",
      "90/90 [==============================] - 1s 16ms/step - loss: 0.0079 - accuracy: 0.9975 - val_loss: 0.0064 - val_accuracy: 0.9976\n",
      "Epoch 11/15\n",
      "90/90 [==============================] - 1s 15ms/step - loss: 0.0082 - accuracy: 0.9975 - val_loss: 0.0070 - val_accuracy: 0.9968\n",
      "Epoch 12/15\n",
      "90/90 [==============================] - 1s 15ms/step - loss: 0.0071 - accuracy: 0.9977 - val_loss: 0.0058 - val_accuracy: 0.9984\n",
      "Epoch 13/15\n",
      "90/90 [==============================] - 1s 15ms/step - loss: 0.0058 - accuracy: 0.9981 - val_loss: 0.0046 - val_accuracy: 0.9984\n",
      "Epoch 14/15\n",
      "90/90 [==============================] - 1s 15ms/step - loss: 0.0061 - accuracy: 0.9982 - val_loss: 0.0071 - val_accuracy: 0.9968\n",
      "Epoch 15/15\n",
      "90/90 [==============================] - 1s 15ms/step - loss: 0.0062 - accuracy: 0.9979 - val_loss: 0.0032 - val_accuracy: 0.9992\n"
     ]
    },
    {
     "data": {
      "text/plain": [
       "<keras.src.callbacks.History at 0x165a97150>"
      ]
     },
     "execution_count": 5,
     "metadata": {},
     "output_type": "execute_result"
    }
   ],
   "source": [
    "batch_size = 128\n",
    "epochs = 15\n",
    "\n",
    "model.compile(loss=\"categorical_crossentropy\", optimizer=\"adam\", metrics=[\"accuracy\"])\n",
    "\n",
    "model.fit(x_train_new, y_train_new, batch_size=batch_size, epochs=epochs, validation_split=0.1)\n"
   ]
  },
  {
   "cell_type": "code",
   "execution_count": 6,
   "id": "58e307a7",
   "metadata": {},
   "outputs": [
    {
     "name": "stdout",
     "output_type": "stream",
     "text": [
      "Test loss: 0.004291400779038668\n",
      "Test accuracy: 0.9990543723106384\n",
      "Test error: 0.0009456276893615723\n"
     ]
    }
   ],
   "source": [
    "test_score = model.evaluate(x_test_new, y_test_new, verbose=0)\n",
    "print(\"Test loss:\", test_score[0])\n",
    "print(\"Test accuracy:\", test_score[1])\n",
    "print(\"Test error:\",1-test_score[1])\n",
    "test_err=1-test_score[1]"
   ]
  },
  {
   "cell_type": "code",
   "execution_count": 7,
   "id": "5bf64e6e",
   "metadata": {},
   "outputs": [
    {
     "name": "stdout",
     "output_type": "stream",
     "text": [
      "Train loss: 0.005114062689244747\n",
      "Train accuracy: 0.9981840252876282\n",
      "Train error: 0.0018159747123718262\n"
     ]
    }
   ],
   "source": [
    "train_score = model.evaluate(x_train_new, y_train_new, verbose=0)\n",
    "print(\"Train loss:\", train_score[0])\n",
    "print(\"Train accuracy:\", train_score[1])\n",
    "print(\"Train error:\",1-train_score[1])\n",
    "train_err=1-train_score[1]"
   ]
  },
  {
   "cell_type": "code",
   "execution_count": 8,
   "id": "269f9512",
   "metadata": {},
   "outputs": [],
   "source": [
    "A=model.get_layer(name=\"conv2d\").get_weights()[0]\n",
    "B=np.array(A)\n",
    "C=np.reshape(B,(3*3,32))\n",
    "tt=np.zeros(32)\n",
    "for j in range(32):\n",
    "  tt[j]=np.sum(abs(C[:,j]))\n",
    "normg1=np.max(tt)"
   ]
  },
  {
   "cell_type": "code",
   "execution_count": 9,
   "id": "0ae68498",
   "metadata": {},
   "outputs": [
    {
     "name": "stdout",
     "output_type": "stream",
     "text": [
      "3.053863048553467\n"
     ]
    }
   ],
   "source": [
    "print(normg1)"
   ]
  },
  {
   "cell_type": "code",
   "execution_count": 12,
   "id": "c25f1e3b",
   "metadata": {},
   "outputs": [],
   "source": [
    "A=model.get_layer(name=\"conv2d_1\").get_weights()[0]\n",
    "B=np.array(A)\n",
    "C=np.reshape(B,(3*3,32*64))\n",
    "tt=np.zeros(32*64)\n",
    "for j in range(32*64):\n",
    "  tt[j]=np.sum(abs(C[:,j]))\n",
    "normg2=np.max(tt)"
   ]
  },
  {
   "cell_type": "code",
   "execution_count": 13,
   "id": "e2ab9ada",
   "metadata": {},
   "outputs": [
    {
     "name": "stdout",
     "output_type": "stream",
     "text": [
      "1.3156660795211792\n"
     ]
    }
   ],
   "source": [
    "print(normg2)"
   ]
  },
  {
   "cell_type": "code",
   "execution_count": 14,
   "id": "d8aba91e",
   "metadata": {},
   "outputs": [],
   "source": [
    "A=model.get_layer(name=\"dense\").get_weights()[0]\n",
    "B=np.array(A)\n",
    "normg3=LA.norm(B.transpose(),ord=1)"
   ]
  },
  {
   "cell_type": "code",
   "execution_count": 15,
   "id": "c0a75241",
   "metadata": {},
   "outputs": [
    {
     "name": "stdout",
     "output_type": "stream",
     "text": [
      "0.32267308\n"
     ]
    }
   ],
   "source": [
    "print(normg3)"
   ]
  },
  {
   "cell_type": "code",
   "execution_count": 16,
   "id": "0143b782",
   "metadata": {},
   "outputs": [],
   "source": [
    "# Rademacher complexity bound\n",
    "d=28*28\n",
    "n=len(x_train_new)"
   ]
  },
  {
   "cell_type": "code",
   "execution_count": 17,
   "id": "c82d89e8",
   "metadata": {},
   "outputs": [
    {
     "name": "stdout",
     "output_type": "stream",
     "text": [
      "12665\n"
     ]
    }
   ],
   "source": [
    "print(n)"
   ]
  },
  {
   "cell_type": "code",
   "execution_count": 18,
   "id": "c9759f58",
   "metadata": {},
   "outputs": [],
   "source": [
    "\n",
    "Rvalue=np.sqrt((d+1)/n)\n"
   ]
  },
  {
   "cell_type": "code",
   "execution_count": 19,
   "id": "1a1cff29",
   "metadata": {},
   "outputs": [
    {
     "name": "stdout",
     "output_type": "stream",
     "text": [
      "0.24896152256072035\n"
     ]
    }
   ],
   "source": [
    "print(Rvalue)"
   ]
  },
  {
   "cell_type": "code",
   "execution_count": 20,
   "id": "62fdc437",
   "metadata": {},
   "outputs": [],
   "source": [
    "layer_name = 'dense'\n",
    "intermediate_layer_model = Model(inputs=model.input,\n",
    "                                 outputs=model.get_layer(layer_name).output)"
   ]
  },
  {
   "cell_type": "code",
   "execution_count": 21,
   "id": "61f5af31",
   "metadata": {},
   "outputs": [
    {
     "name": "stdout",
     "output_type": "stream",
     "text": [
      "108/396 [=======>......................] - ETA: 0s"
     ]
    },
    {
     "name": "stderr",
     "output_type": "stream",
     "text": [
      "2024-02-08 10:32:42.928882: I tensorflow/core/grappler/optimizers/custom_graph_optimizer_registry.cc:114] Plugin optimizer for device_type GPU is enabled.\n"
     ]
    },
    {
     "name": "stdout",
     "output_type": "stream",
     "text": [
      "396/396 [==============================] - 1s 1ms/step\n"
     ]
    }
   ],
   "source": [
    "intermediate_output = intermediate_layer_model.predict(x_train_new)"
   ]
  },
  {
   "cell_type": "code",
   "execution_count": 22,
   "id": "17b66d32",
   "metadata": {},
   "outputs": [
    {
     "data": {
      "text/plain": [
       "(12665, 2)"
      ]
     },
     "execution_count": 22,
     "metadata": {},
     "output_type": "execute_result"
    }
   ],
   "source": [
    "np.shape(intermediate_output)"
   ]
  },
  {
   "cell_type": "code",
   "execution_count": 23,
   "id": "c8412141",
   "metadata": {},
   "outputs": [
    {
     "data": {
      "text/plain": [
       "array([0.03915092, 0.9722449 ], dtype=float32)"
      ]
     },
     "execution_count": 23,
     "metadata": {},
     "output_type": "execute_result"
    }
   ],
   "source": [
    "intermediate_output[1]"
   ]
  },
  {
   "cell_type": "code",
   "execution_count": 24,
   "id": "f7c799e6",
   "metadata": {},
   "outputs": [],
   "source": [
    "n=len(intermediate_output)"
   ]
  },
  {
   "cell_type": "code",
   "execution_count": 25,
   "id": "05a008ff",
   "metadata": {},
   "outputs": [],
   "source": [
    "count=0 #count the number of error in the training set for a given margin\n",
    "gamma=0.5\n",
    "for i in range(n):\n",
    "  y=y_train_new_original[i]\n",
    "  x=intermediate_output[i]\n",
    "  if (x[y]<x[(y+1)%2]+gamma): \n",
    "     count=count+1\n",
    "train_err_mod=count/n"
   ]
  },
  {
   "cell_type": "code",
   "execution_count": 26,
   "id": "6b013551",
   "metadata": {},
   "outputs": [
    {
     "name": "stdout",
     "output_type": "stream",
     "text": [
      "0.007106198183971575\n"
     ]
    }
   ],
   "source": [
    "print(train_err_mod)\n",
    "delta=0.05"
   ]
  },
  {
   "cell_type": "code",
   "execution_count": 32,
   "id": "784f76bc",
   "metadata": {},
   "outputs": [
    {
     "name": "stdout",
     "output_type": "stream",
     "text": [
      "0.005043246897100814\n"
     ]
    }
   ],
   "source": [
    "RC=Rvalue*normg1*normg2*normg3*(1/4)*(1/16)\n",
    "print(RC)"
   ]
  },
  {
   "cell_type": "code",
   "execution_count": 33,
   "id": "b9e98930",
   "metadata": {},
   "outputs": [],
   "source": [
    "A=train_err_mod+4*2*(1/gamma)*RC+np.sqrt(np.log(np.log2(2*gamma**(-1)))/n)+np.sqrt((2*np.log(3/delta))/n) "
   ]
  },
  {
   "cell_type": "code",
   "execution_count": 34,
   "id": "1dd9380b",
   "metadata": {},
   "outputs": [
    {
     "data": {
      "text/plain": [
       "0.12062363166419866"
      ]
     },
     "execution_count": 34,
     "metadata": {},
     "output_type": "execute_result"
    }
   ],
   "source": [
    "A"
   ]
  }
 ],
 "metadata": {
  "kernelspec": {
   "display_name": "Python 3 (ipykernel)",
   "language": "python",
   "name": "python3"
  },
  "language_info": {
   "codemirror_mode": {
    "name": "ipython",
    "version": 3
   },
   "file_extension": ".py",
   "mimetype": "text/x-python",
   "name": "python",
   "nbconvert_exporter": "python",
   "pygments_lexer": "ipython3",
   "version": "3.11.4"
  }
 },
 "nbformat": 4,
 "nbformat_minor": 5
}
