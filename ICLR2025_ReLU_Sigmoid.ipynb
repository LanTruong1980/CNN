{
 "cells": [
  {
   "cell_type": "code",
   "execution_count": 3,
   "id": "71fbde29",
   "metadata": {},
   "outputs": [],
   "source": [
    "import numpy as np\n",
    "from tensorflow import keras\n",
    "from tensorflow.keras import layers\n",
    "from numpy import linalg as LA\n",
    "from keras import backend as K\n",
    "import matplotlib.pyplot as plt\n",
    "from keras.models import Model"
   ]
  },
  {
   "cell_type": "code",
   "execution_count": 4,
   "id": "1587550e",
   "metadata": {},
   "outputs": [
    {
     "name": "stdout",
     "output_type": "stream",
     "text": [
      "(60000, 28, 28)\n",
      "(10000, 28, 28)\n",
      "x_train shape: (60000, 28, 28)\n",
      "60000 train samples\n",
      "10000 test samples\n"
     ]
    }
   ],
   "source": [
    "# Model / data parameters\n",
    "num_classes = 10\n",
    "input_shape = (28, 28, 1)\n",
    "\n",
    "# Load the data and split it between train and test sets\n",
    "(x_train, y_train), (x_test, y_test) = keras.datasets.mnist.load_data()\n",
    "print(np.shape(x_train))\n",
    "print(np.shape(x_test))\n",
    "# Scale images to the [0, 1] range\n",
    "x_train = x_train.astype(\"float32\")/255 \n",
    "x_test = x_test.astype(\"float32\")/255\n",
    "\n",
    "\n",
    "\n",
    "# Make sure images have shape (28, 28, 1)\n",
    "#x_train = np.expand_dims(x_train, -1)\n",
    "#x_test = np.expand_dims(x_test, -1)\n",
    "print(\"x_train shape:\", x_train.shape)\n",
    "print(x_train.shape[0], \"train samples\")\n",
    "print(x_test.shape[0], \"test samples\")\n",
    "\n",
    "\n",
    "# convert class vectors to binary class matrices\n",
    "#y_train = keras.utils.to_categorical(y_train, num_classes)\n",
    "#y_test = keras.utils.to_categorical(y_test, num_classes)"
   ]
  },
  {
   "cell_type": "code",
   "execution_count": 5,
   "id": "317334a0",
   "metadata": {},
   "outputs": [],
   "source": [
    "k=0\n",
    "x_train_new=[]\n",
    "y_train_new=[]\n",
    "x_test_new=[]\n",
    "y_test_new=[]\n",
    "for i in range(len(y_train)):\n",
    "  if (y_train[i]==0) or (y_train[i]==1):\n",
    "     x_train_new.append(x_train[i])\n",
    "     y_train_new.append(y_train[i])\n",
    "for i in range(len(y_test)):\n",
    "  if (y_test[i]==0) or (y_test[i]==1):\n",
    "     x_test_new.append(x_test[i])\n",
    "     y_test_new.append(y_test[i])\n",
    "\n",
    "#for i in range(len(y_train_new)):\n",
    " # if (y_train_new[i]==0):\n",
    "  #  y_train_new[i]=-1\n",
    "#for i in range(len(y_test_new)):\n",
    " # if (y_test_new[i]==0):\n",
    "  #  y_test_new[i]=-1\n",
    "\n",
    "num_classes=2\n",
    "# Make sure images have shape (28, 28, 1)\n",
    "x_train_new = np.expand_dims(x_train_new, -1)\n",
    "x_test_new = np.expand_dims(x_test_new, -1)    \n",
    "\n",
    "y_train_new_original=y_train_new #store the label\n",
    "\n",
    "# convert class vectors to binary class matrices\n",
    "y_train_new = keras.utils.to_categorical(y_train_new, num_classes)\n",
    "y_test_new = keras.utils.to_categorical(y_test_new, num_classes)"
   ]
  },
  {
   "cell_type": "code",
   "execution_count": 89,
   "id": "87d33567",
   "metadata": {},
   "outputs": [
    {
     "name": "stdout",
     "output_type": "stream",
     "text": [
      "Model: \"sequential_1\"\n",
      "_________________________________________________________________\n",
      " Layer (type)                Output Shape              Param #   \n",
      "=================================================================\n",
      " conv2d_2 (Conv2D)           (None, 26, 26, 32)        320       \n",
      "                                                                 \n",
      " average_pooling2d_2 (Avera  (None, 13, 13, 32)        0         \n",
      " gePooling2D)                                                    \n",
      "                                                                 \n",
      " conv2d_3 (Conv2D)           (None, 11, 11, 64)        18496     \n",
      "                                                                 \n",
      " average_pooling2d_3 (Avera  (None, 5, 5, 64)          0         \n",
      " gePooling2D)                                                    \n",
      "                                                                 \n",
      " flatten_1 (Flatten)         (None, 1600)              0         \n",
      "                                                                 \n",
      " dropout_1 (Dropout)         (None, 1600)              0         \n",
      "                                                                 \n",
      " dense_1 (Dense)             (None, 2)                 3202      \n",
      "                                                                 \n",
      "=================================================================\n",
      "Total params: 22018 (86.01 KB)\n",
      "Trainable params: 22018 (86.01 KB)\n",
      "Non-trainable params: 0 (0.00 Byte)\n",
      "_________________________________________________________________\n"
     ]
    }
   ],
   "source": [
    "model = keras.Sequential(\n",
    "    [\n",
    "        layers.Input(shape=input_shape),\n",
    "        layers.Conv2D(32, kernel_size=(3, 3), activation=\"relu\"),\n",
    "        layers.AveragePooling2D(pool_size=(2, 2)),\n",
    "        layers.Conv2D(64, kernel_size=(3, 3), activation=\"relu\"),\n",
    "        layers.AveragePooling2D(pool_size=(2, 2)),  \n",
    "        layers.Flatten(),\n",
    "        layers.Dropout(0.5),\n",
    "        layers.Dense(2, activation=\"sigmoid\"), \n",
    "    ]\n",
    ")\n",
    "model.summary()"
   ]
  },
  {
   "cell_type": "code",
   "execution_count": 90,
   "id": "4bb1d0a7",
   "metadata": {},
   "outputs": [
    {
     "name": "stdout",
     "output_type": "stream",
     "text": [
      "Epoch 1/15\n",
      " 5/90 [>.............................] - ETA: 1s - loss: 0.6300 - accuracy: 0.8594 "
     ]
    },
    {
     "name": "stderr",
     "output_type": "stream",
     "text": [
      "2024-09-26 17:53:15.061624: I tensorflow/core/grappler/optimizers/custom_graph_optimizer_registry.cc:114] Plugin optimizer for device_type GPU is enabled.\n"
     ]
    },
    {
     "name": "stdout",
     "output_type": "stream",
     "text": [
      "90/90 [==============================] - 2s 16ms/step - loss: 0.1031 - accuracy: 0.9863 - val_loss: 0.0089 - val_accuracy: 0.9968\n",
      "Epoch 2/15\n",
      " 5/90 [>.............................] - ETA: 1s - loss: 0.0025 - accuracy: 1.0000"
     ]
    },
    {
     "name": "stderr",
     "output_type": "stream",
     "text": [
      "2024-09-26 17:53:16.491286: I tensorflow/core/grappler/optimizers/custom_graph_optimizer_registry.cc:114] Plugin optimizer for device_type GPU is enabled.\n"
     ]
    },
    {
     "name": "stdout",
     "output_type": "stream",
     "text": [
      "90/90 [==============================] - 1s 15ms/step - loss: 0.0073 - accuracy: 0.9973 - val_loss: 0.0024 - val_accuracy: 0.9992\n",
      "Epoch 3/15\n",
      "90/90 [==============================] - 1s 15ms/step - loss: 0.0053 - accuracy: 0.9982 - val_loss: 9.5985e-04 - val_accuracy: 1.0000\n",
      "Epoch 4/15\n",
      "90/90 [==============================] - 1s 15ms/step - loss: 0.0037 - accuracy: 0.9987 - val_loss: 9.6132e-04 - val_accuracy: 0.9992\n",
      "Epoch 5/15\n",
      "90/90 [==============================] - 1s 15ms/step - loss: 0.0034 - accuracy: 0.9989 - val_loss: 8.5745e-04 - val_accuracy: 0.9992\n",
      "Epoch 6/15\n",
      "90/90 [==============================] - 1s 15ms/step - loss: 0.0029 - accuracy: 0.9989 - val_loss: 5.8136e-04 - val_accuracy: 1.0000\n",
      "Epoch 7/15\n",
      "90/90 [==============================] - 1s 15ms/step - loss: 0.0027 - accuracy: 0.9989 - val_loss: 4.3976e-04 - val_accuracy: 1.0000\n",
      "Epoch 8/15\n",
      "90/90 [==============================] - 1s 15ms/step - loss: 0.0025 - accuracy: 0.9993 - val_loss: 3.0782e-04 - val_accuracy: 1.0000\n",
      "Epoch 9/15\n",
      "90/90 [==============================] - 1s 15ms/step - loss: 0.0016 - accuracy: 0.9994 - val_loss: 1.8012e-04 - val_accuracy: 1.0000\n",
      "Epoch 10/15\n",
      "90/90 [==============================] - 1s 15ms/step - loss: 0.0017 - accuracy: 0.9994 - val_loss: 5.5187e-04 - val_accuracy: 1.0000\n",
      "Epoch 11/15\n",
      "90/90 [==============================] - 1s 15ms/step - loss: 0.0012 - accuracy: 0.9996 - val_loss: 1.0241e-04 - val_accuracy: 1.0000\n",
      "Epoch 12/15\n",
      "90/90 [==============================] - 1s 15ms/step - loss: 0.0024 - accuracy: 0.9992 - val_loss: 1.2581e-04 - val_accuracy: 1.0000\n",
      "Epoch 13/15\n",
      "90/90 [==============================] - 1s 15ms/step - loss: 0.0017 - accuracy: 0.9993 - val_loss: 1.5471e-04 - val_accuracy: 1.0000\n",
      "Epoch 14/15\n",
      "90/90 [==============================] - 1s 15ms/step - loss: 0.0013 - accuracy: 0.9996 - val_loss: 1.4726e-04 - val_accuracy: 1.0000\n",
      "Epoch 15/15\n",
      "90/90 [==============================] - 1s 15ms/step - loss: 0.0017 - accuracy: 0.9995 - val_loss: 1.4813e-04 - val_accuracy: 1.0000\n"
     ]
    },
    {
     "data": {
      "text/plain": [
       "<keras.src.callbacks.History at 0x2d570d050>"
      ]
     },
     "execution_count": 90,
     "metadata": {},
     "output_type": "execute_result"
    }
   ],
   "source": [
    "batch_size = 128\n",
    "epochs = 15\n",
    "\n",
    "model.compile(loss=\"categorical_crossentropy\", optimizer=\"adam\", metrics=[\"accuracy\"])\n",
    "\n",
    "model.fit(x_train_new, y_train_new, batch_size=batch_size, epochs=epochs, validation_split=0.1)"
   ]
  },
  {
   "cell_type": "code",
   "execution_count": 91,
   "id": "6bf97e25",
   "metadata": {},
   "outputs": [
    {
     "name": "stdout",
     "output_type": "stream",
     "text": [
      "Test loss: 0.0018894335953518748\n",
      "Test accuracy: 0.9990543723106384\n",
      "Test error: 0.0009456276893615723\n"
     ]
    }
   ],
   "source": [
    "test_score = model.evaluate(x_test_new, y_test_new, verbose=0)\n",
    "print(\"Test loss:\", test_score[0])\n",
    "print(\"Test accuracy:\", test_score[1])\n",
    "print(\"Test error:\",1-test_score[1])\n",
    "test_err=1-test_score[1]"
   ]
  },
  {
   "cell_type": "code",
   "execution_count": 92,
   "id": "cf93aca5",
   "metadata": {},
   "outputs": [
    {
     "name": "stdout",
     "output_type": "stream",
     "text": [
      "Train loss: 0.0006612516008317471\n",
      "Train accuracy: 0.9997631907463074\n",
      "Train error: 0.00023680925369262695\n"
     ]
    }
   ],
   "source": [
    "train_score = model.evaluate(x_train_new, y_train_new, verbose=0)\n",
    "print(\"Train loss:\", train_score[0])\n",
    "print(\"Train accuracy:\", train_score[1])\n",
    "print(\"Train error:\",1-train_score[1])\n",
    "train_err=1-train_score[1]"
   ]
  },
  {
   "cell_type": "code",
   "execution_count": 95,
   "id": "e1b48e97",
   "metadata": {},
   "outputs": [],
   "source": [
    "A=model.get_layer(name=\"conv2d_2\").get_weights()[0]\n",
    "B=np.array(A)\n",
    "C=np.reshape(B,(3*3,32))\n",
    "tt=np.zeros(32)\n",
    "for j in range(32):\n",
    "  tt[j]=np.sum(abs(C[:,j]))\n",
    "normg1=np.max(tt)"
   ]
  },
  {
   "cell_type": "code",
   "execution_count": 96,
   "id": "91d1e2d1",
   "metadata": {},
   "outputs": [
    {
     "data": {
      "text/plain": [
       "1.1906160116195679"
      ]
     },
     "execution_count": 96,
     "metadata": {},
     "output_type": "execute_result"
    }
   ],
   "source": [
    "normg1"
   ]
  },
  {
   "cell_type": "code",
   "execution_count": 97,
   "id": "28a82789",
   "metadata": {},
   "outputs": [],
   "source": [
    "A=model.get_layer(name=\"conv2d_3\").get_weights()[0]\n",
    "B=np.array(A)\n",
    "C=np.reshape(B,(3*3,32*64))\n",
    "tt=np.zeros(32*64)\n",
    "for j in range(32*64):\n",
    "  tt[j]=np.sum(abs(C[:,j]))\n",
    "normg2=np.max(tt)"
   ]
  },
  {
   "cell_type": "code",
   "execution_count": 98,
   "id": "1aaf3367",
   "metadata": {},
   "outputs": [
    {
     "name": "stdout",
     "output_type": "stream",
     "text": [
      "1.3728008270263672\n"
     ]
    }
   ],
   "source": [
    "print(normg2)"
   ]
  },
  {
   "cell_type": "code",
   "execution_count": 99,
   "id": "b1aa83eb",
   "metadata": {},
   "outputs": [],
   "source": [
    "A=model.get_layer(name=\"dense_1\").get_weights()[0]\n",
    "B=np.array(A)\n",
    "normg3=LA.norm(B.transpose(),ord=1)*(1/4)"
   ]
  },
  {
   "cell_type": "code",
   "execution_count": 100,
   "id": "c1c56165",
   "metadata": {},
   "outputs": [
    {
     "data": {
      "text/plain": [
       "0.10346078127622604"
      ]
     },
     "execution_count": 100,
     "metadata": {},
     "output_type": "execute_result"
    }
   ],
   "source": [
    "normg3"
   ]
  },
  {
   "cell_type": "code",
   "execution_count": 101,
   "id": "516f45c5",
   "metadata": {},
   "outputs": [],
   "source": [
    "# Rademacher complexity bound\n",
    "d=28*28\n",
    "n=len(x_train_new)"
   ]
  },
  {
   "cell_type": "code",
   "execution_count": 102,
   "id": "7d69a90c",
   "metadata": {},
   "outputs": [
    {
     "name": "stdout",
     "output_type": "stream",
     "text": [
      "12665\n"
     ]
    }
   ],
   "source": [
    "print(n)"
   ]
  },
  {
   "cell_type": "code",
   "execution_count": 103,
   "id": "0435898e",
   "metadata": {},
   "outputs": [],
   "source": [
    "Rvalue=np.sqrt((d+1)/n)"
   ]
  },
  {
   "cell_type": "code",
   "execution_count": 104,
   "id": "ce4911e9",
   "metadata": {},
   "outputs": [
    {
     "name": "stdout",
     "output_type": "stream",
     "text": [
      "0.24896152256072035\n"
     ]
    }
   ],
   "source": [
    "print(Rvalue)"
   ]
  },
  {
   "cell_type": "code",
   "execution_count": 105,
   "id": "4f8c8f05",
   "metadata": {},
   "outputs": [],
   "source": [
    "layer_name = 'dense_1'\n",
    "intermediate_layer_model = Model(inputs=model.input,\n",
    "                                 outputs=model.get_layer(layer_name).output)"
   ]
  },
  {
   "cell_type": "code",
   "execution_count": 106,
   "id": "fcd2f46c",
   "metadata": {},
   "outputs": [
    {
     "name": "stdout",
     "output_type": "stream",
     "text": [
      "114/396 [=======>......................] - ETA: 0s"
     ]
    },
    {
     "name": "stderr",
     "output_type": "stream",
     "text": [
      "2024-09-26 17:54:40.267721: I tensorflow/core/grappler/optimizers/custom_graph_optimizer_registry.cc:114] Plugin optimizer for device_type GPU is enabled.\n"
     ]
    },
    {
     "name": "stdout",
     "output_type": "stream",
     "text": [
      "396/396 [==============================] - 1s 1ms/step\n"
     ]
    }
   ],
   "source": [
    "intermediate_output = intermediate_layer_model.predict(x_train_new)"
   ]
  },
  {
   "cell_type": "code",
   "execution_count": 107,
   "id": "9027b0c4",
   "metadata": {},
   "outputs": [
    {
     "data": {
      "text/plain": [
       "(12665, 2)"
      ]
     },
     "execution_count": 107,
     "metadata": {},
     "output_type": "execute_result"
    }
   ],
   "source": [
    "np.shape(intermediate_output)"
   ]
  },
  {
   "cell_type": "code",
   "execution_count": 108,
   "id": "a71d53f6",
   "metadata": {},
   "outputs": [
    {
     "data": {
      "text/plain": [
       "array([0.00248359, 0.9980465 ], dtype=float32)"
      ]
     },
     "execution_count": 108,
     "metadata": {},
     "output_type": "execute_result"
    }
   ],
   "source": [
    "intermediate_output[1]"
   ]
  },
  {
   "cell_type": "code",
   "execution_count": 109,
   "id": "66de8914",
   "metadata": {},
   "outputs": [],
   "source": [
    "n=len(intermediate_output)"
   ]
  },
  {
   "cell_type": "code",
   "execution_count": 110,
   "id": "c56975f6",
   "metadata": {},
   "outputs": [],
   "source": [
    "def zeta_func(x, gamma):\n",
    "    if (x>=gamma):\n",
    "       result = 0\n",
    "    elif (x<=0):\n",
    "       result=1\n",
    "    else:\n",
    "       result=1-x/gamma\n",
    "    return result"
   ]
  },
  {
   "cell_type": "code",
   "execution_count": 111,
   "id": "ac1f211d",
   "metadata": {},
   "outputs": [],
   "source": [
    "count=0 # for storing error term\n",
    "gamma=1\n",
    "for i in range(n):\n",
    "  y=y_train_new_original[i]\n",
    "  x=intermediate_output[i]\n",
    "  count=count+zeta_func(x[y]-x[(y+1)%2],gamma)\n",
    "train_err_mod=count/n"
   ]
  },
  {
   "cell_type": "code",
   "execution_count": 112,
   "id": "b8edb218",
   "metadata": {},
   "outputs": [
    {
     "name": "stdout",
     "output_type": "stream",
     "text": [
      "0.006306548256013782\n"
     ]
    }
   ],
   "source": [
    "print(train_err_mod)\n",
    "delta=0.05"
   ]
  },
  {
   "cell_type": "code",
   "execution_count": 113,
   "id": "021eebd0",
   "metadata": {},
   "outputs": [],
   "source": [
    "RC=Rvalue\n",
    "RC=RC*normg1+1/(2*np.sqrt(n))\n",
    "RC=RC*normg2+1/(2*np.sqrt(n))\n",
    "RC=RC*normg3+1/(2*np.sqrt(n))\n"
   ]
  },
  {
   "cell_type": "code",
   "execution_count": 114,
   "id": "53db9d30",
   "metadata": {},
   "outputs": [
    {
     "name": "stdout",
     "output_type": "stream",
     "text": [
      "0.047634104976891946\n"
     ]
    }
   ],
   "source": [
    "\n",
    "print(RC)"
   ]
  },
  {
   "cell_type": "code",
   "execution_count": 115,
   "id": "df0d0ae7",
   "metadata": {},
   "outputs": [],
   "source": [
    "A=train_err_mod+4*2*(1/gamma)*RC+np.sqrt(np.log(np.log2(2*gamma**(-1)))/n)+np.sqrt((2*np.log(3/delta))/n) "
   ]
  },
  {
   "cell_type": "code",
   "execution_count": 116,
   "id": "bf4c0bfb",
   "metadata": {},
   "outputs": [
    {
     "data": {
      "text/plain": [
       "0.4128069426320393"
      ]
     },
     "execution_count": 116,
     "metadata": {},
     "output_type": "execute_result"
    }
   ],
   "source": [
    "A"
   ]
  }
 ],
 "metadata": {
  "kernelspec": {
   "display_name": "Python 3 (ipykernel)",
   "language": "python",
   "name": "python3"
  },
  "language_info": {
   "codemirror_mode": {
    "name": "ipython",
    "version": 3
   },
   "file_extension": ".py",
   "mimetype": "text/x-python",
   "name": "python",
   "nbconvert_exporter": "python",
   "pygments_lexer": "ipython3",
   "version": "3.11.8"
  }
 },
 "nbformat": 4,
 "nbformat_minor": 5
}
