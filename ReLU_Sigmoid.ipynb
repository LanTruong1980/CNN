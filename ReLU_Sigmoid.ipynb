{
 "cells": [
  {
   "cell_type": "code",
   "execution_count": 91,
   "id": "71fbde29",
   "metadata": {},
   "outputs": [],
   "source": [
    "# Import necessary libraries\n",
    "import numpy as np\n",
    "from sklearn.datasets import load_iris\n",
    "from tensorflow.keras.models import Sequential\n",
    "from tensorflow.keras.layers import Dense\n",
    "from tensorflow.keras.optimizers import Adam\n",
    "from sklearn.model_selection import train_test_split\n",
    "from sklearn.preprocessing import LabelEncoder\n",
    "from sklearn.metrics import accuracy_score\n",
    "import tensorflow as tf\n",
    "from tensorflow.keras import layers, models\n",
    "from tensorflow.keras.datasets import mnist\n",
    "from tensorflow.keras.utils import to_categorical\n",
    "from numpy import linalg as LA\n",
    "import numpy as np\n",
    "from scipy.linalg import qr\n",
    "from sklearn.preprocessing import MinMaxScaler"
   ]
  },
  {
   "cell_type": "code",
   "execution_count": 94,
   "id": "1587550e",
   "metadata": {},
   "outputs": [
    {
     "name": "stdout",
     "output_type": "stream",
     "text": [
      "(60000, 28, 28)\n",
      "(10000, 28, 28)\n",
      "x_train shape: (60000, 28, 28)\n",
      "60000 train samples\n",
      "10000 test samples\n"
     ]
    }
   ],
   "source": [
    "# Model / data parameters\n",
    "num_classes = 10\n",
    "input_shape = (28, 28, 1)\n",
    "\n",
    "# Load the data and split it between train and test sets\n",
    "(x_train, y_train), (x_test, y_test) = keras.datasets.mnist.load_data()\n",
    "print(np.shape(x_train))\n",
    "print(np.shape(x_test))\n",
    "# Scale images to the [0, 1] range\n",
    "x_train = x_train.astype(\"float32\")/255 \n",
    "x_test = x_test.astype(\"float32\")/255\n",
    "\n",
    "\n",
    "\n",
    "# Make sure images have shape (28, 28, 1)\n",
    "#x_train = np.expand_dims(x_train, -1)\n",
    "#x_test = np.expand_dims(x_test, -1)\n",
    "print(\"x_train shape:\", x_train.shape)\n",
    "print(x_train.shape[0], \"train samples\")\n",
    "print(x_test.shape[0], \"test samples\")\n",
    "\n",
    "\n",
    "# convert class vectors to binary class matrices\n",
    "#y_train = keras.utils.to_categorical(y_train, num_classes)\n",
    "#y_test = keras.utils.to_categorical(y_test, num_classes)"
   ]
  },
  {
   "cell_type": "code",
   "execution_count": 93,
   "id": "317334a0",
   "metadata": {},
   "outputs": [],
   "source": [
    "k=0\n",
    "x_train_new=[]\n",
    "y_train_new=[]\n",
    "x_test_new=[]\n",
    "y_test_new=[]\n",
    "for i in range(len(y_train)):\n",
    "  if (y_train[i]==0) or (y_train[i]==1):\n",
    "     x_train_new.append(x_train[i])\n",
    "     y_train_new.append(y_train[i])\n",
    "for i in range(len(y_test)):\n",
    "  if (y_test[i]==0) or (y_test[i]==1):\n",
    "     x_test_new.append(x_test[i])\n",
    "     y_test_new.append(y_test[i])\n",
    "\n",
    "#for i in range(len(y_train_new)):\n",
    " # if (y_train_new[i]==0):\n",
    "  #  y_train_new[i]=-1\n",
    "#for i in range(len(y_test_new)):\n",
    " # if (y_test_new[i]==0):\n",
    "  #  y_test_new[i]=-1\n",
    "\n",
    "num_classes=2\n",
    "# Make sure images have shape (28, 28, 1)\n",
    "x_train_new = np.expand_dims(x_train_new, -1)\n",
    "x_test_new = np.expand_dims(x_test_new, -1)    \n",
    "\n",
    "y_train_new_original=y_train_new #store the label\n",
    "\n",
    "# convert class vectors to binary class matrices\n",
    "y_train_new = keras.utils.to_categorical(y_train_new, num_classes)\n",
    "y_test_new = keras.utils.to_categorical(y_test_new, num_classes)"
   ]
  },
  {
   "cell_type": "code",
   "execution_count": 101,
   "id": "8a5a7577",
   "metadata": {},
   "outputs": [
    {
     "data": {
      "text/plain": [
       "array([0., 1.], dtype=float32)"
      ]
     },
     "execution_count": 101,
     "metadata": {},
     "output_type": "execute_result"
    }
   ],
   "source": [
    "y_test_new[10]"
   ]
  },
  {
   "cell_type": "code",
   "execution_count": 95,
   "id": "87d33567",
   "metadata": {},
   "outputs": [
    {
     "name": "stdout",
     "output_type": "stream",
     "text": [
      "Model: \"sequential_2\"\n",
      "_________________________________________________________________\n",
      " Layer (type)                Output Shape              Param #   \n",
      "=================================================================\n",
      " conv2d_4 (Conv2D)           (None, 26, 26, 32)        320       \n",
      "                                                                 \n",
      " average_pooling2d_4 (Avera  (None, 13, 13, 32)        0         \n",
      " gePooling2D)                                                    \n",
      "                                                                 \n",
      " conv2d_5 (Conv2D)           (None, 11, 11, 64)        18496     \n",
      "                                                                 \n",
      " average_pooling2d_5 (Avera  (None, 5, 5, 64)          0         \n",
      " gePooling2D)                                                    \n",
      "                                                                 \n",
      " flatten_2 (Flatten)         (None, 1600)              0         \n",
      "                                                                 \n",
      " dropout_2 (Dropout)         (None, 1600)              0         \n",
      "                                                                 \n",
      " dense_2 (Dense)             (None, 2)                 3202      \n",
      "                                                                 \n",
      "=================================================================\n",
      "Total params: 22018 (86.01 KB)\n",
      "Trainable params: 22018 (86.01 KB)\n",
      "Non-trainable params: 0 (0.00 Byte)\n",
      "_________________________________________________________________\n"
     ]
    }
   ],
   "source": [
    "model = keras.Sequential(\n",
    "    [\n",
    "        layers.Input(shape=input_shape),\n",
    "        layers.Conv2D(32, kernel_size=(3, 3), activation=\"relu\"),\n",
    "        layers.AveragePooling2D(pool_size=(2, 2)),\n",
    "        layers.Conv2D(64, kernel_size=(3, 3), activation=\"relu\"),\n",
    "        layers.AveragePooling2D(pool_size=(2, 2)),  \n",
    "        layers.Flatten(),\n",
    "        layers.Dropout(0.5),\n",
    "        layers.Dense(2, activation=\"sigmoid\"), \n",
    "    ]\n",
    ")\n",
    "model.summary()"
   ]
  },
  {
   "cell_type": "code",
   "execution_count": 96,
   "id": "4bb1d0a7",
   "metadata": {},
   "outputs": [
    {
     "name": "stdout",
     "output_type": "stream",
     "text": [
      "Epoch 1/15\n",
      " 5/90 [>.............................] - ETA: 1s - loss: 0.6236 - accuracy: 0.7734 "
     ]
    },
    {
     "name": "stderr",
     "output_type": "stream",
     "text": [
      "2025-02-28 13:24:30.521241: I tensorflow/core/grappler/optimizers/custom_graph_optimizer_registry.cc:114] Plugin optimizer for device_type GPU is enabled.\n"
     ]
    },
    {
     "name": "stdout",
     "output_type": "stream",
     "text": [
      "90/90 [==============================] - 2s 16ms/step - loss: 0.0999 - accuracy: 0.9788 - val_loss: 0.0076 - val_accuracy: 0.9976\n",
      "Epoch 2/15\n",
      " 5/90 [>.............................] - ETA: 1s - loss: 0.0158 - accuracy: 0.9953"
     ]
    },
    {
     "name": "stderr",
     "output_type": "stream",
     "text": [
      "2025-02-28 13:24:31.909867: I tensorflow/core/grappler/optimizers/custom_graph_optimizer_registry.cc:114] Plugin optimizer for device_type GPU is enabled.\n"
     ]
    },
    {
     "name": "stdout",
     "output_type": "stream",
     "text": [
      "90/90 [==============================] - 1s 14ms/step - loss: 0.0086 - accuracy: 0.9975 - val_loss: 0.0026 - val_accuracy: 0.9992\n",
      "Epoch 3/15\n",
      "90/90 [==============================] - 1s 14ms/step - loss: 0.0046 - accuracy: 0.9985 - val_loss: 0.0012 - val_accuracy: 0.9992\n",
      "Epoch 4/15\n",
      "90/90 [==============================] - 1s 14ms/step - loss: 0.0043 - accuracy: 0.9990 - val_loss: 0.0010 - val_accuracy: 0.9992\n",
      "Epoch 5/15\n",
      "90/90 [==============================] - 1s 14ms/step - loss: 0.0041 - accuracy: 0.9987 - val_loss: 0.0013 - val_accuracy: 0.9992\n",
      "Epoch 6/15\n",
      "90/90 [==============================] - 1s 14ms/step - loss: 0.0021 - accuracy: 0.9994 - val_loss: 0.0010 - val_accuracy: 0.9992\n",
      "Epoch 7/15\n",
      "90/90 [==============================] - 1s 14ms/step - loss: 0.0034 - accuracy: 0.9985 - val_loss: 0.0012 - val_accuracy: 0.9992\n",
      "Epoch 8/15\n",
      "90/90 [==============================] - 1s 14ms/step - loss: 0.0022 - accuracy: 0.9992 - val_loss: 4.0248e-04 - val_accuracy: 1.0000\n",
      "Epoch 9/15\n",
      "90/90 [==============================] - 1s 14ms/step - loss: 0.0031 - accuracy: 0.9989 - val_loss: 0.0019 - val_accuracy: 0.9992\n",
      "Epoch 10/15\n",
      "90/90 [==============================] - 1s 14ms/step - loss: 0.0031 - accuracy: 0.9989 - val_loss: 2.5629e-04 - val_accuracy: 1.0000\n",
      "Epoch 11/15\n",
      "90/90 [==============================] - 1s 14ms/step - loss: 0.0016 - accuracy: 0.9996 - val_loss: 1.4963e-04 - val_accuracy: 1.0000\n",
      "Epoch 12/15\n",
      "90/90 [==============================] - 1s 14ms/step - loss: 0.0015 - accuracy: 0.9996 - val_loss: 2.2766e-04 - val_accuracy: 1.0000\n",
      "Epoch 13/15\n",
      "90/90 [==============================] - 1s 14ms/step - loss: 0.0012 - accuracy: 0.9996 - val_loss: 4.0275e-04 - val_accuracy: 1.0000\n",
      "Epoch 14/15\n",
      "90/90 [==============================] - 1s 14ms/step - loss: 0.0013 - accuracy: 0.9996 - val_loss: 2.2452e-04 - val_accuracy: 1.0000\n",
      "Epoch 15/15\n",
      "90/90 [==============================] - 1s 14ms/step - loss: 0.0017 - accuracy: 0.9992 - val_loss: 1.2362e-04 - val_accuracy: 1.0000\n"
     ]
    },
    {
     "data": {
      "text/plain": [
       "<keras.src.callbacks.History at 0x32332ff50>"
      ]
     },
     "execution_count": 96,
     "metadata": {},
     "output_type": "execute_result"
    }
   ],
   "source": [
    "batch_size = 128\n",
    "epochs = 15\n",
    "\n",
    "model.compile(loss=\"categorical_crossentropy\", optimizer=\"adam\", metrics=[\"accuracy\"])\n",
    "\n",
    "model.fit(x_train_new, y_train_new, batch_size=batch_size, epochs=epochs, validation_split=0.1)"
   ]
  },
  {
   "cell_type": "code",
   "execution_count": 108,
   "id": "78bf8c0e",
   "metadata": {},
   "outputs": [
    {
     "name": "stdout",
     "output_type": "stream",
     "text": [
      "67/67 [==============================] - 0s 2ms/step\n",
      "Mean Squared Error: 0.00032060262\n"
     ]
    }
   ],
   "source": [
    "y_pred_temp = model.predict(x_test_new)\n",
    "y_pred_new=np.max(y_pred_temp,axis=1)\n",
    "y_test_mod=np.max(y_test_new,axis=1)\n",
    "mse = tf.keras.losses.mean_squared_error(y_test_mod, y_pred_new)\n",
    "print(\"Mean Squared Error:\", mse.numpy())"
   ]
  },
  {
   "cell_type": "code",
   "execution_count": 52,
   "id": "6bf97e25",
   "metadata": {},
   "outputs": [
    {
     "name": "stdout",
     "output_type": "stream",
     "text": [
      "Test loss: 0.0024167378433048725\n",
      "Test accuracy: 0.9990543723106384\n",
      "Test error: 0.0009456276893615723\n"
     ]
    }
   ],
   "source": [
    "test_score = model.evaluate(x_test_new, y_test_new, verbose=0)\n",
    "print(\"Test loss:\", test_score[0])\n",
    "print(\"Test accuracy:\", test_score[1])\n",
    "print(\"Test error:\",1-test_score[1])\n",
    "test_err=1-test_score[1]"
   ]
  },
  {
   "cell_type": "code",
   "execution_count": 53,
   "id": "cf93aca5",
   "metadata": {},
   "outputs": [
    {
     "name": "stdout",
     "output_type": "stream",
     "text": [
      "Train loss: 0.0006811767816543579\n",
      "Train accuracy: 0.9997631907463074\n",
      "Train error: 0.00023680925369262695\n"
     ]
    }
   ],
   "source": [
    "train_score = model.evaluate(x_train_new, y_train_new, verbose=0)\n",
    "print(\"Train loss:\", train_score[0])\n",
    "print(\"Train accuracy:\", train_score[1])\n",
    "print(\"Train error:\",1-train_score[1])\n",
    "train_err=1-train_score[1]"
   ]
  },
  {
   "cell_type": "code",
   "execution_count": 54,
   "id": "e1b48e97",
   "metadata": {},
   "outputs": [],
   "source": [
    "A=model.get_layer(name=\"conv2d_2\").get_weights()[0]\n",
    "B=np.array(A)\n",
    "C=np.reshape(B,(3*3,32))\n",
    "tt=np.zeros(32)\n",
    "for j in range(32):\n",
    "  tt[j]=LA.norm(C[:,j],2)\n",
    "normg1=np.max(tt)"
   ]
  },
  {
   "cell_type": "code",
   "execution_count": 55,
   "id": "91d1e2d1",
   "metadata": {},
   "outputs": [
    {
     "data": {
      "text/plain": [
       "0.5828438401222229"
      ]
     },
     "execution_count": 55,
     "metadata": {},
     "output_type": "execute_result"
    }
   ],
   "source": [
    "normg1"
   ]
  },
  {
   "cell_type": "code",
   "execution_count": 56,
   "id": "28a82789",
   "metadata": {},
   "outputs": [],
   "source": [
    "A=model.get_layer(name=\"conv2d_3\").get_weights()[0]\n",
    "B=np.array(A)\n",
    "C=np.reshape(B,(3*3,32*64))\n",
    "tt=np.zeros(32*64)\n",
    "for j in range(32*64):\n",
    "  tt[j]=LA.norm(C[:,j],2)\n",
    "normg2=np.max(tt)"
   ]
  },
  {
   "cell_type": "code",
   "execution_count": 57,
   "id": "1aaf3367",
   "metadata": {},
   "outputs": [
    {
     "name": "stdout",
     "output_type": "stream",
     "text": [
      "0.5602572560310364\n"
     ]
    }
   ],
   "source": [
    "print(normg2)"
   ]
  },
  {
   "cell_type": "code",
   "execution_count": 68,
   "id": "b1aa83eb",
   "metadata": {},
   "outputs": [],
   "source": [
    "A=model.get_layer(name=\"dense_1\").get_weights()[0]\n",
    "B=np.array(A)\n",
    "normg3=LA.norm(B.transpose(),ord=1)*(1/4)"
   ]
  },
  {
   "cell_type": "code",
   "execution_count": 69,
   "id": "c1c56165",
   "metadata": {},
   "outputs": [
    {
     "data": {
      "text/plain": [
       "0.1303444802761078"
      ]
     },
     "execution_count": 69,
     "metadata": {},
     "output_type": "execute_result"
    }
   ],
   "source": [
    "normg3"
   ]
  },
  {
   "cell_type": "code",
   "execution_count": 70,
   "id": "516f45c5",
   "metadata": {},
   "outputs": [],
   "source": [
    "# Rademacher complexity bound\n",
    "d=28*28\n",
    "n=len(x_train_new)"
   ]
  },
  {
   "cell_type": "code",
   "execution_count": 71,
   "id": "7d69a90c",
   "metadata": {},
   "outputs": [
    {
     "name": "stdout",
     "output_type": "stream",
     "text": [
      "12665\n"
     ]
    }
   ],
   "source": [
    "print(n)"
   ]
  },
  {
   "cell_type": "code",
   "execution_count": 72,
   "id": "0435898e",
   "metadata": {},
   "outputs": [],
   "source": [
    "Rvalue=np.sqrt((d+1)/n)"
   ]
  },
  {
   "cell_type": "code",
   "execution_count": 73,
   "id": "ce4911e9",
   "metadata": {},
   "outputs": [
    {
     "name": "stdout",
     "output_type": "stream",
     "text": [
      "0.24896152256072035\n"
     ]
    }
   ],
   "source": [
    "print(Rvalue)"
   ]
  },
  {
   "cell_type": "code",
   "execution_count": 74,
   "id": "4f8c8f05",
   "metadata": {},
   "outputs": [],
   "source": [
    "layer_name = 'dense_1'\n",
    "intermediate_layer_model = Model(inputs=model.input,\n",
    "                                 outputs=model.get_layer(layer_name).output)"
   ]
  },
  {
   "cell_type": "code",
   "execution_count": 75,
   "id": "fcd2f46c",
   "metadata": {},
   "outputs": [
    {
     "name": "stdout",
     "output_type": "stream",
     "text": [
      "124/396 [========>.....................] - ETA: 0s"
     ]
    },
    {
     "name": "stderr",
     "output_type": "stream",
     "text": [
      "2025-02-28 10:20:27.004375: I tensorflow/core/grappler/optimizers/custom_graph_optimizer_registry.cc:114] Plugin optimizer for device_type GPU is enabled.\n"
     ]
    },
    {
     "name": "stdout",
     "output_type": "stream",
     "text": [
      "396/396 [==============================] - 1s 1ms/step\n"
     ]
    }
   ],
   "source": [
    "intermediate_output = intermediate_layer_model.predict(x_train_new)"
   ]
  },
  {
   "cell_type": "code",
   "execution_count": 76,
   "id": "9027b0c4",
   "metadata": {},
   "outputs": [
    {
     "data": {
      "text/plain": [
       "(12665, 2)"
      ]
     },
     "execution_count": 76,
     "metadata": {},
     "output_type": "execute_result"
    }
   ],
   "source": [
    "np.shape(intermediate_output)"
   ]
  },
  {
   "cell_type": "code",
   "execution_count": 77,
   "id": "a71d53f6",
   "metadata": {},
   "outputs": [
    {
     "data": {
      "text/plain": [
       "array([5.527708e-04, 9.988397e-01], dtype=float32)"
      ]
     },
     "execution_count": 77,
     "metadata": {},
     "output_type": "execute_result"
    }
   ],
   "source": [
    "intermediate_output[1]"
   ]
  },
  {
   "cell_type": "code",
   "execution_count": 78,
   "id": "66de8914",
   "metadata": {},
   "outputs": [],
   "source": [
    "n=len(intermediate_output)"
   ]
  },
  {
   "cell_type": "code",
   "execution_count": 79,
   "id": "c56975f6",
   "metadata": {},
   "outputs": [],
   "source": [
    "def zeta_func(x, gamma):\n",
    "    if (x>=gamma):\n",
    "       result = 0\n",
    "    elif (x<=0):\n",
    "       result=1\n",
    "    else:\n",
    "       result=1-x/gamma\n",
    "    return result"
   ]
  },
  {
   "cell_type": "code",
   "execution_count": 80,
   "id": "ac1f211d",
   "metadata": {},
   "outputs": [],
   "source": [
    "count=0 # for storing error term\n",
    "gamma=1\n",
    "for i in range(n):\n",
    "  y=y_train_new_original[i]\n",
    "  x=intermediate_output[i]\n",
    "  count=count+zeta_func(x[y]-x[(y+1)%2],gamma)\n",
    "train_err_mod=count/n"
   ]
  },
  {
   "cell_type": "code",
   "execution_count": 81,
   "id": "b8edb218",
   "metadata": {},
   "outputs": [
    {
     "name": "stdout",
     "output_type": "stream",
     "text": [
      "0.005474557436081999\n"
     ]
    }
   ],
   "source": [
    "print(train_err_mod)\n",
    "delta=0.05"
   ]
  },
  {
   "cell_type": "code",
   "execution_count": 82,
   "id": "021eebd0",
   "metadata": {},
   "outputs": [],
   "source": [
    "RC=Rvalue\n",
    "RC=RC*normg1+1/(2*np.sqrt(n))\n",
    "RC=RC*normg2+1/(2*np.sqrt(n))\n",
    "RC=RC*normg3+1/(2*np.sqrt(n))\n"
   ]
  },
  {
   "cell_type": "code",
   "execution_count": 83,
   "id": "53db9d30",
   "metadata": {},
   "outputs": [
    {
     "name": "stdout",
     "output_type": "stream",
     "text": [
      "0.01594301944098421\n"
     ]
    }
   ],
   "source": [
    "\n",
    "print(RC)"
   ]
  },
  {
   "cell_type": "code",
   "execution_count": 84,
   "id": "df0d0ae7",
   "metadata": {},
   "outputs": [],
   "source": [
    "A=train_err_mod+4*2*(1/gamma)*RC+np.sqrt(np.log(np.log2(2*gamma**(-1)))/n)+np.sqrt((2*np.log(3/delta))/n) "
   ]
  },
  {
   "cell_type": "code",
   "execution_count": 85,
   "id": "bf4c0bfb",
   "metadata": {},
   "outputs": [
    {
     "data": {
      "text/plain": [
       "0.1584462675248456"
      ]
     },
     "execution_count": 85,
     "metadata": {},
     "output_type": "execute_result"
    }
   ],
   "source": [
    "A"
   ]
  },
  {
   "cell_type": "code",
   "execution_count": 114,
   "id": "72875790",
   "metadata": {},
   "outputs": [],
   "source": [
    "MSEbound=16*np.sqrt((d+1)/n)*RC+2/np.sqrt(n)+4*np.sqrt(2*np.log(4/delta)/n)"
   ]
  },
  {
   "cell_type": "code",
   "execution_count": 115,
   "id": "0a678587",
   "metadata": {},
   "outputs": [
    {
     "data": {
      "text/plain": [
       "0.1865016205965633"
      ]
     },
     "execution_count": 115,
     "metadata": {},
     "output_type": "execute_result"
    }
   ],
   "source": [
    "MSEbound"
   ]
  }
 ],
 "metadata": {
  "kernelspec": {
   "display_name": "Python 3 (ipykernel)",
   "language": "python",
   "name": "python3"
  },
  "language_info": {
   "codemirror_mode": {
    "name": "ipython",
    "version": 3
   },
   "file_extension": ".py",
   "mimetype": "text/x-python",
   "name": "python",
   "nbconvert_exporter": "python",
   "pygments_lexer": "ipython3",
   "version": "3.11.8"
  }
 },
 "nbformat": 4,
 "nbformat_minor": 5
}
